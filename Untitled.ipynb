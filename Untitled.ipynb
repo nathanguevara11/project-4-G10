{
 "cells": [
  {
   "cell_type": "code",
   "execution_count": 3,
   "id": "293ea266-d693-4313-a831-d6b695673986",
   "metadata": {},
   "outputs": [
    {
     "name": "stdout",
     "output_type": "stream",
     "text": [
      "Error: 404\n"
     ]
    }
   ],
   "source": [
    "import requests\n",
    "import pandas as pd\n",
    "\n",
    "# Set your API key\n",
    "api_key = '2OC7fq351i8XaigUMau6fnZ0gzaSgm56JeXDYYmg'\n",
    "\n",
    "# API URL for fetching NFL team data\n",
    "url = f'https://api.sportradar.us/nfl/official/trial/v7/en/teams.json?api_key={api_key}'\n",
    "\n",
    "# Send GET request to fetch data\n",
    "response = requests.get(url)\n",
    "# Check if the request was successful\n",
    "if response.status_code == 200:\n",
    "    data = response.json()\n",
    "    print(data)  # Print the fetched data\n",
    "else:\n",
    "    print(f\"Error: {response.status_code}\")"
   ]
  },
  {
   "cell_type": "code",
   "execution_count": 2,
   "id": "b5b3ae7f-4311-4be3-ae08-a080476c2cdb",
   "metadata": {},
   "outputs": [
    {
     "name": "stdout",
     "output_type": "stream",
     "text": [
      "Error: 404\n"
     ]
    }
   ],
   "source": [
    "\n",
    "# Check if the request was successful\n",
    "if response.status_code == 200:\n",
    "    data = response.json()\n",
    "    \n",
    "    # Extract team data\n",
    "    teams = data['teams']\n",
    "    \n",
    "    # Convert the team data to a pandas DataFrame\n",
    "    df = pd.DataFrame(teams)\n",
    "    \n",
    "    # Save to a CSV or process it as needed\n",
    "    df.to_csv('nfl_teams_data.csv', index=False)\n",
    "    print(\"Data has been saved to 'nfl_teams_data.csv'\")\n",
    "else:\n",
    "    print(f\"Error: {response.status_code}\")\n"
   ]
  },
  {
   "cell_type": "code",
   "execution_count": 5,
   "id": "e606f5db-dd6b-4b69-a6c7-9c99b2eb2126",
   "metadata": {},
   "outputs": [
    {
     "name": "stdout",
     "output_type": "stream",
     "text": [
      "Error: The endpoint could not be found. Please check the URL and API key.\n"
     ]
    }
   ],
   "source": [
    "import requests\n",
    "\n",
    "# Your API key from SportRadar\n",
    "api_key = '2OC7fq351i8XaigUMau6fnZ0gzaSgm56JeXDYYmg'\n",
    "\n",
    "# Make sure the endpoint and format are correct\n",
    "url = f'https://api.sportradar.us/nfl/official/trial/v7/en/teams.json?api_key={api_key}'\n",
    "\n",
    "# Send the GET request\n",
    "response = requests.get(url)\n",
    "\n",
    "# Check the status code and handle errors\n",
    "if response.status_code == 200:\n",
    "    data = response.json()\n",
    "    print(data)  # Check the data you get back\n",
    "elif response.status_code == 404:\n",
    "    print(\"Error: The endpoint could not be found. Please check the URL and API key.\")\n",
    "elif response.status_code == 403:\n",
    "    print(\"Error: Forbidden access. Check your API key or subscription level.\")\n",
    "else:\n",
    "    print(f\"Unexpected error: {response.status_code}\")\n"
   ]
  },
  {
   "cell_type": "code",
   "execution_count": null,
   "id": "412464ee-6450-46fd-accf-25b49f2823f9",
   "metadata": {},
   "outputs": [],
   "source": []
  }
 ],
 "metadata": {
  "kernelspec": {
   "display_name": "Python 3 (ipykernel)",
   "language": "python",
   "name": "python3"
  },
  "language_info": {
   "codemirror_mode": {
    "name": "ipython",
    "version": 3
   },
   "file_extension": ".py",
   "mimetype": "text/x-python",
   "name": "python",
   "nbconvert_exporter": "python",
   "pygments_lexer": "ipython3",
   "version": "3.12.3"
  }
 },
 "nbformat": 4,
 "nbformat_minor": 5
}
